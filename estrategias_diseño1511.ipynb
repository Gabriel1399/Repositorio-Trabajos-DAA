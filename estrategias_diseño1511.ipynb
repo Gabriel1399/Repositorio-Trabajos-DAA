{
  "nbformat": 4,
  "nbformat_minor": 0,
  "metadata": {
    "colab": {
      "name": "estrategias_diseño1511.ipynb",
      "provenance": [],
      "collapsed_sections": [],
      "authorship_tag": "ABX9TyOWnyhyj4SgcuCYZq4A/v4V",
      "include_colab_link": true
    },
    "kernelspec": {
      "name": "python3",
      "display_name": "Python 3"
    },
    "language_info": {
      "name": "python"
    }
  },
  "cells": [
    {
      "cell_type": "markdown",
      "metadata": {
        "id": "view-in-github",
        "colab_type": "text"
      },
      "source": [
        "<a href=\"https://colab.research.google.com/github/Gabriel1399/Repositorio-Trabajos-DAA/blob/main/estrategias_dise%C3%B1o1511.ipynb\" target=\"_parent\"><img src=\"https://colab.research.google.com/assets/colab-badge.svg\" alt=\"Open In Colab\"/></a>"
      ]
    },
    {
      "cell_type": "markdown",
      "metadata": {
        "id": "V0dKWFtfYXcw"
      },
      "source": [
        "#Fuerza bruta"
      ]
    },
    {
      "cell_type": "markdown",
      "metadata": {
        "id": "sFOBZya4Yb4s"
      },
      "source": [
        "#Ejemplo 1, busqueda de patrones de texto"
      ]
    },
    {
      "cell_type": "code",
      "metadata": {
        "id": "w5Lk8c8IVzFo"
      },
      "source": [
        "entrada = \"001110010101101110101101\"\n",
        "patron = \"01101\"\n",
        "\n",
        "def string_match_brute(A, P):\n",
        "  for i in range((len(A)-len(P))+1):\n",
        "    for j in range(len(P)):\n",
        "      if P[j] == A[i+j]:\n",
        "        pass\n",
        "      else:\n",
        "        break\n",
        "    if j+1 == len(P) and A[i+j] == P[j]:\n",
        "      print(f\"Se encontro en la posicion: {i}\")\n",
        "      \n",
        "\n",
        "string_match_brute(entrada, patron)\n",
        "# O()"
      ],
      "execution_count": null,
      "outputs": []
    },
    {
      "cell_type": "markdown",
      "metadata": {
        "id": "W9509oNAY3oq"
      },
      "source": [
        "#Cifrado César"
      ]
    },
    {
      "cell_type": "code",
      "metadata": {
        "id": "FVu4yHf-Y8PV"
      },
      "source": [
        "#solamente descifrar (ENCRIPTADO esta mal dicho) \n",
        "cifrado = \"dwdfdu\"\n",
        "alfabeto = \"abcdefghijklmnopqrstuvwxyz\"\n",
        "print(len(alfabeto))\n",
        "for llave in range(1, len(alfabeto)):\n",
        "  for i in range(len(cifrado)):\n",
        "    #print(alfabeto.index(cifrado[i]), end=\" \")\n",
        "    index = alfabeto.index(cifrado[i])\n",
        "    print( alfabeto[(index + llave) % len(alfabeto)], end = \" \" )\n",
        "  print(\"\")"
      ],
      "execution_count": null,
      "outputs": []
    },
    {
      "cell_type": "markdown",
      "metadata": {
        "id": "KDJaw-R8gJxC"
      },
      "source": [
        ""
      ]
    },
    {
      "cell_type": "code",
      "metadata": {
        "id": "TGRLNoipgK_A"
      },
      "source": [
        "#solamente descifrar (ENCRIPTADO esta mal dicho) \n",
        "cifrado = \"zg gzhv lpz vidhv v gv pidqzmndyvy ivxdjivg, kjm hd mvuv cvwgvmá zg znkímdop, mzqzgv gv qjxvxdói cphviínodxv xji gv lpz apz xjixzwdyv. zg vpojm yz znov xégzwmz amvnz, ejné qvnxjixzgjn, vnphdó gv mzxojmív zi 1920, zi piv ékjxv zi lpz gvn znkzmviuvn yz gv mzqjgpxdói vúi znovwvi qdqvn, cvwív piv bmvi aé zi gv kvomdv t zg áidhj mzyziojm nz zsoziyív zi zg vhwdzioz.\"\n",
        "alfabeto = \"abcdefghijklmnopqrstuvwxyz\"\n",
        "print(len(alfabeto))\n",
        "for llave in range(1, len(alfabeto)):\n",
        "  for i in range(len(cifrado)):\n",
        "    if (cifrado[i] in alfabeto):\n",
        "      #print(alfabeto.index(cifrado[i]), end=\" \")\n",
        "      index = alfabeto.index(cifrado[i])\n",
        "      print( alfabeto[(index + llave) % len(alfabeto)], end = \" \" )\n",
        "    else:\n",
        "      print( cifrado[i] , end=\" \")\n",
        "  print(\"\")\n",
        "  #Tarea: Con codigo solamente discriminar las lineas que no corresponden al mensaje cifrado"
      ],
      "execution_count": null,
      "outputs": []
    },
    {
      "cell_type": "code",
      "metadata": {
        "id": "CgYx7aW5b0O0"
      },
      "source": [
        "nombre = \"Unam\"\n",
        "print(nombre.index(\"a\"))"
      ],
      "execution_count": null,
      "outputs": []
    },
    {
      "cell_type": "markdown",
      "metadata": {
        "id": "US4QPdrJkdL_"
      },
      "source": [
        "#Buscar por fuerza bruta los putos mas cercanos entre sí, dentro de un plano cartesiano. "
      ]
    },
    {
      "cell_type": "code",
      "metadata": {
        "colab": {
          "base_uri": "https://localhost:8080/",
          "height": 282
        },
        "id": "KwyoZNiOlNZZ",
        "outputId": "c9c4b136-7a08-4d48-c9a3-550dbedc4228"
      },
      "source": [
        "from matplotlib import pyplot as plt\n",
        "import random\n",
        "\n",
        "pares = []\n",
        "for i in range(5):\n",
        "  pares.append([ random.randint(1, 100) , random.randint(1, 100)])\n",
        "\n",
        "print(pares)\n",
        "\n",
        "for par in pares:\n",
        "    plt.plot( par[0],par[1] , \"bo\" )"
      ],
      "execution_count": 18,
      "outputs": [
        {
          "output_type": "stream",
          "name": "stdout",
          "text": [
            "[[72, 54], [49, 32], [8, 95], [83, 24], [98, 76]]\n"
          ]
        },
        {
          "output_type": "display_data",
          "data": {
            "image/png": "[encoded data removed]",
            "text/plain": [
              "<Figure size 432x288 with 1 Axes>"
            ]
          },
          "metadata": {
            "needs_background": "light"
          }
        }
      ]
    }
  ]
}