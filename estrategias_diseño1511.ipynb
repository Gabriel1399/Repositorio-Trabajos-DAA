{
  "nbformat": 4,
  "nbformat_minor": 0,
  "metadata": {
    "colab": {
      "name": "estrategias_diseño1511.ipynb",
      "provenance": [],
      "collapsed_sections": [],
      "authorship_tag": "ABX9TyM3GY94GFkXISB4qbkouVBI",
      "include_colab_link": true
    },
    "kernelspec": {
      "name": "python3",
      "display_name": "Python 3"
    },
    "language_info": {
      "name": "python"
    }
  },
  "cells": [
    {
      "cell_type": "markdown",
      "metadata": {
        "id": "view-in-github",
        "colab_type": "text"
      },
      "source": [
        "<a href=\"https://colab.research.google.com/github/Gabriel1399/Repositorio-Trabajos-DAA/blob/main/estrategias_dise%C3%B1o1511.ipynb\" target=\"_parent\"><img src=\"https://colab.research.google.com/assets/colab-badge.svg\" alt=\"Open In Colab\"/></a>"
      ]
    },
    {
      "cell_type": "markdown",
      "metadata": {
        "id": "V0dKWFtfYXcw"
      },
      "source": [
        "#Fuerza bruta"
      ]
    },
    {
      "cell_type": "markdown",
      "metadata": {
        "id": "sFOBZya4Yb4s"
      },
      "source": [
        "#Ejemplo 1, busqueda de patrones de texto"
      ]
    },
    {
      "cell_type": "code",
      "metadata": {
        "id": "w5Lk8c8IVzFo"
      },
      "source": [
        "entrada = \"001110010101101110101101\"\n",
        "patron = \"01101\"\n",
        "\n",
        "def string_match_brute(A, P):\n",
        "  for i in range((len(A)-len(P))+1):\n",
        "    for j in range(len(P)):\n",
        "      if P[j] == A[i+j]:\n",
        "        pass\n",
        "      else:\n",
        "        break\n",
        "    if j+1 == len(P) and A[i+j] == P[j]:\n",
        "      print(f\"Se encontro en la posicion: {i}\")\n",
        "      \n",
        "\n",
        "string_match_brute(entrada, patron)\n",
        "# O()"
      ],
      "execution_count": null,
      "outputs": []
    },
    {
      "cell_type": "markdown",
      "metadata": {
        "id": "W9509oNAY3oq"
      },
      "source": [
        "#Cifrado César"
      ]
    },
    {
      "cell_type": "code",
      "metadata": {
        "id": "FVu4yHf-Y8PV"
      },
      "source": [
        "#solamente descifrar (ENCRIPTADO esta mal dicho) \n",
        "cifrado = \"dwdfdu\"\n",
        "alfabeto = \"abcdefghijklmnopqrstuvwxyz\"\n",
        "print(len(alfabeto))\n",
        "for llave in range(1, len(alfabeto)):\n",
        "  for i in range(len(cifrado)):\n",
        "    #print(alfabeto.index(cifrado[i]), end=\" \")\n",
        "    index = alfabeto.index(cifrado[i])\n",
        "    print( alfabeto[(index + llave) % len(alfabeto)], end = \" \" )\n",
        "  print(\"\")"
      ],
      "execution_count": null,
      "outputs": []
    },
    {
      "cell_type": "markdown",
      "metadata": {
        "id": "KDJaw-R8gJxC"
      },
      "source": [
        ""
      ]
    },
    {
      "cell_type": "code",
      "metadata": {
        "id": "TGRLNoipgK_A"
      },
      "source": [
        "#solamente descifrar (ENCRIPTADO esta mal dicho) \n",
        "cifrado = \"zg gzhv lpz vidhv v gv pidqzmndyvy ivxdjivg, kjm hd mvuv cvwgvmá zg znkímdop, mzqzgv gv qjxvxdói cphviínodxv xji gv lpz apz xjixzwdyv. zg vpojm yz znov xégzwmz amvnz, ejné qvnxjixzgjn, vnphdó gv mzxojmív zi 1920, zi piv ékjxv zi lpz gvn znkzmviuvn yz gv mzqjgpxdói vúi znovwvi qdqvn, cvwív piv bmvi aé zi gv kvomdv t zg áidhj mzyziojm nz zsoziyív zi zg vhwdzioz.\"\n",
        "alfabeto = \"abcdefghijklmnopqrstuvwxyz\"\n",
        "print(len(alfabeto))\n",
        "for llave in range(1, len(alfabeto)):\n",
        "  for i in range(len(cifrado)):\n",
        "    if (cifrado[i] in alfabeto):\n",
        "      #print(alfabeto.index(cifrado[i]), end=\" \")\n",
        "      index = alfabeto.index(cifrado[i])\n",
        "      print( alfabeto[(index + llave) % len(alfabeto)], end = \" \" )\n",
        "    else:\n",
        "      print( cifrado[i] , end=\" \")\n",
        "  print(\"\")\n",
        "  #Tarea: Con codigo solamente discriminar las lineas que no corresponden al mensaje cifrado"
      ],
      "execution_count": null,
      "outputs": []
    },
    {
      "cell_type": "code",
      "metadata": {
        "id": "CgYx7aW5b0O0"
      },
      "source": [
        "nombre = \"Unam\"\n",
        "print(nombre.index(\"a\"))"
      ],
      "execution_count": null,
      "outputs": []
    },
    {
      "cell_type": "markdown",
      "metadata": {
        "id": "US4QPdrJkdL_"
      },
      "source": [
        "#Buscar por fuerza bruta los putos mas cercanos entre sí, dentro de un plano cartesiano. "
      ]
    },
    {
      "cell_type": "code",
      "metadata": {
        "colab": {
          "base_uri": "https://localhost:8080/",
          "height": 356
        },
        "id": "KwyoZNiOlNZZ",
        "outputId": "23de4eae-bae1-4fd3-f27f-d815bf524f5a"
      },
      "source": [
        "from matplotlib import pyplot as plt\n",
        "import random\n",
        "import math\n",
        "\n",
        "pares = []\n",
        "for i in range(30):\n",
        "  pares.append([ random.randint(1, 100) , random.randint(1, 100)])\n",
        "\n",
        "print(pares)\n",
        "\n",
        "for par in pares:\n",
        "    plt.scatter(par[0],par[1] , s=3 ,c=\"k\"  )\n",
        "#resultado = math.sqrt((pow(((x2-x1)),2))+(pow(((y2-y1)),2)))\n",
        "\n",
        "def distancia(p1, p2): #pares()\n",
        "  dis = math.sqrt((pow(((p2[0]-p1[0])),2))+(pow(((p2[1]-p1[1])),2)))\n",
        "  return dis\n",
        "\n",
        "print( distancia([100, 24], [27, 37]))\n",
        "\n",
        "menor = 99999\n",
        "d = 0\n",
        "par_menor = []\n",
        "for i in range(len(pares)):\n",
        "  for j in range(len(pares)):\n",
        "    d = distancia(pares[i], pares[j])\n",
        "    if d < menor and d!= 0.0:\n",
        "      menor = d\n",
        "      par_menor.clear()\n",
        "      par_menor.append(pares[i])\n",
        "      par_menor.append(pares[j])\n",
        "print(menor)\n",
        "print(par_menor[0], par_menor[1])\n",
        "\n"
      ],
      "execution_count": 11,
      "outputs": [
        {
          "output_type": "stream",
          "name": "stdout",
          "text": [
            "[[37, 46], [16, 97], [73, 96], [6, 20], [84, 61], [45, 96], [66, 18], [3, 78], [6, 22], [78, 20], [82, 24], [66, 81], [26, 90], [27, 17], [18, 11], [47, 27], [82, 39], [100, 45], [73, 7], [16, 87], [33, 41], [15, 15], [60, 11], [75, 13], [84, 44], [80, 13], [77, 78], [35, 24], [50, 27], [4, 76]]\n",
            "74.14849964766651\n",
            "2.0\n",
            "[6, 20] [6, 22]\n"
          ]
        },
        {
          "output_type": "display_data",
          "data": {
            "image/png": "[encoded data removed]",
            "text/plain": [
              "<Figure size 432x288 with 1 Axes>"
            ]
          },
          "metadata": {
            "needs_background": "light"
          }
        }
      ]
    },
    {
      "cell_type": "code",
      "metadata": {
        "id": "wA11h12X6Hxd"
      },
      "source": [
        ""
      ],
      "execution_count": null,
      "outputs": []
    }
  ]
}