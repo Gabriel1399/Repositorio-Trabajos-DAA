{
  "nbformat": 4,
  "nbformat_minor": 0,
  "metadata": {
    "colab": {
      "name": "EDD_BigO_1511.ipynb",
      "provenance": [],
      "collapsed_sections": [],
      "authorship_tag": "ABX9TyMEHJWsouu5coUxGE9V2EVn",
      "include_colab_link": true
    },
    "kernelspec": {
      "name": "python3",
      "display_name": "Python 3"
    },
    "language_info": {
      "name": "python"
    }
  },
  "cells": [
    {
      "cell_type": "markdown",
      "metadata": {
        "id": "view-in-github",
        "colab_type": "text"
      },
      "source": [
        "<a href=\"https://colab.research.google.com/github/Gabriel1399/Repositorio-Trabajos-DAA/blob/main/EDD_BigO_1511.ipynb\" target=\"_parent\"><img src=\"https://colab.research.google.com/assets/colab-badge.svg\" alt=\"Open In Colab\"/></a>"
      ]
    },
    {
      "cell_type": "markdown",
      "metadata": {
        "id": "EdrU4C4ZEgT5"
      },
      "source": [
        "#Árbol binario de busqueda \n",
        "#árbol binario de busqueda"
      ]
    },
    {
      "cell_type": "code",
      "metadata": {
        "id": "-3VF_98SEOzZ"
      },
      "source": [
        "class NodoArbol:\n",
        "  def __init__(self, value, left = None, rigth = None):\n",
        "    self.data = value\n",
        "    self.left = left\n",
        "    self.rigth = rigth\n",
        "\n",
        "class ArbolBB:\n",
        "  def __init__(self):\n",
        "    self.__root = None\n",
        "  \n",
        "  def insert(self, value):\n",
        "    if self.__root == None:\n",
        "      self.__root = NodoArbol(value)\n",
        "    else:\n",
        "      self.__insert_nodo__(self.__root, value)\n",
        "  \n",
        "  def __insert_nodo__(self, nodo, value):\n",
        "    if nodo.data == value:\n",
        "      print(\"Ya existe\")\n",
        "      pass\n",
        "    elif value < nodo.data:\n",
        "      if nodo.left == None:\n",
        "        nodo.left = NodoArbol(value)\n",
        "      else:\n",
        "        self.__insert_nodo__(nodo.left, value)\n",
        "    else:\n",
        "      if nodo.rigth == None:\n",
        "        nodo.rigth = NodoArbol(value)\n",
        "      else:\n",
        "        self.__insert_nodo__(nodo.rigth, value)\n",
        "  \n",
        "  #Preorden, posorden\n",
        "  def transversal(self, formato = \"inorden\"):\n",
        "    if formato == \"inorden\":\n",
        "      print(\"Inorden\")\n",
        "      self.recorrido_in(self.__root)\n",
        "    elif formato == \"preorden\":\n",
        "      print(\"Preorden\")\n",
        "      self.recorrido_pre(self.__root)\n",
        "    else: #posorden\n",
        "      print(\"Posorden\")\n",
        "      self.recorrido_pos(self,__root)\n",
        "      pass\n",
        "\n",
        "  def recorrido_in(self, nodo):\n",
        "    if nodo != None:\n",
        "      self.recorrido_in(nodo.left)\n",
        "      print(nodo.data, end= \"  \")\n",
        "      self.recorrido_in(nodo.rigth)\n",
        "  \n",
        "  def recorrido_pre(self, nodo):\n",
        "    if nodo != None:\n",
        "      print(nodo.data, end= \"  \")\n",
        "      self.recorrido_in(nodo.left)\n",
        "      self.recorrido_in(nodo.rigth)\n",
        "  \n",
        "  def recorrido_pos(self, nodo):\n",
        "    if nodo != None:\n",
        "      self.recorrido_in(nodo.left)\n",
        "      self.recorrido_in(nodo.rigth)\n",
        "      print(nodo.data, end= \"  \")\n"
      ],
      "execution_count": 22,
      "outputs": []
    },
    {
      "cell_type": "code",
      "metadata": {
        "colab": {
          "base_uri": "https://localhost:8080/"
        },
        "id": "xPGOP4NLbGSK",
        "outputId": "f1eeebb5-92c4-4737-e514-bad83e583fe9"
      },
      "source": [
        "abb = ArbolBB()\n",
        "\"\"\"abb.insert(55)\n",
        "abb.insert(14)\n",
        "abb.insert(27)\n",
        "abb.insert(15)\n",
        "abb.insert(21)\n",
        "abb.insert(80)\n",
        "abb.insert(27)\"\"\"\n",
        "\n",
        "abb.insert(6)\n",
        "abb.insert(3)\n",
        "abb.insert(8)\n",
        "abb.transversal()"
      ],
      "execution_count": 23,
      "outputs": [
        {
          "output_type": "stream",
          "name": "stdout",
          "text": [
            "Inorden\n",
            "3  6  8  "
          ]
        }
      ]
    },
    {
      "cell_type": "code",
      "metadata": {
        "colab": {
          "base_uri": "https://localhost:8080/"
        },
        "id": "U79lhRg2LyJK",
        "outputId": "05aa640c-28dc-44bb-b5f1-b7c6d18a654c"
      },
      "source": [
        "raiz = NodoArbol(60, None, None)\n",
        "raiz.left = NodoArbol(40, None, None)\n",
        "print(raiz.left.data)\n",
        "\n",
        "# Lo mismo pero como programador Ninja\n",
        "raiz = NodoArbol(60, NodoArbol(40), None)\n",
        "print(raiz.left.data)\n",
        "\n",
        "raiz= NodoArbol(60, NodoArbol(40, NodoArbol(30)), NodoArbol(70))\n",
        "print(raiz.left.left.data)\n",
        "\n",
        "# Imprimir le hijo mas a la izquierda\n",
        "print(\"Imprimir recorriendo primero la rama izquierda\")\n",
        "curr_node = raiz\n",
        "while curr_node.left != None:\n",
        "  curr_node = curr_node.left\n",
        "print(curr_node.data) "
      ],
      "execution_count": 6,
      "outputs": [
        {
          "output_type": "stream",
          "name": "stdout",
          "text": [
            "40\n",
            "40\n",
            "30\n",
            "Imprimir recorriendo primero la rama izquierda\n",
            "30\n"
          ]
        }
      ]
    }
  ]
}