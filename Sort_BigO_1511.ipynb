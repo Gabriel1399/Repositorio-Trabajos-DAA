{
  "nbformat": 4,
  "nbformat_minor": 0,
  "metadata": {
    "colab": {
      "name": "Sort_BigO_1511.ipynb",
      "provenance": [],
      "collapsed_sections": [],
      "authorship_tag": "ABX9TyN2daPE3Q2V5pysmlLMtiUw",
      "include_colab_link": true
    },
    "kernelspec": {
      "name": "python3",
      "display_name": "Python 3"
    },
    "language_info": {
      "name": "python"
    }
  },
  "cells": [
    {
      "cell_type": "markdown",
      "metadata": {
        "id": "view-in-github",
        "colab_type": "text"
      },
      "source": [
        "<a href=\"https://colab.research.google.com/github/Gabriel1399/Repositorio-Trabajos-DAA/blob/main/Sort_BigO_1511.ipynb\" target=\"_parent\"><img src=\"https://colab.research.google.com/assets/colab-badge.svg\" alt=\"Open In Colab\"/></a>"
      ]
    },
    {
      "cell_type": "markdown",
      "metadata": {
        "id": "DltE87b0KENl"
      },
      "source": [
        "#Bubble sort\n"
      ]
    },
    {
      "cell_type": "code",
      "metadata": {
        "colab": {
          "base_uri": "https://localhost:8080/"
        },
        "id": "GTa2NamEKJqc",
        "outputId": "4fdbe060-0ab5-48b6-fa19-2be93b4856e7"
      },
      "source": [
        "info = [8, 5, 9, 3]\n",
        "info2 = [10, 9, 8, 7, 6, 5, 4, 3, 2, 1, 0]\n",
        "\n",
        "def burbuja(data): # M O(n)     P O(1)\n",
        "  tam = len(data)  # M O(1)     P O(1)\n",
        "  for tope in range( tam - 1, 0, -1): # M O(1)     P O(na)\n",
        "    for pivote in range(tope): # M O(1)     P O(na)\n",
        "      if data[pivote] > data[pivote + 1]: \n",
        "        data[pivote], data[pivote + 1] = data[pivote + 1], data[pivote] # M O(0)     P O(2n^2)\n",
        "    print(f\"--> {data} <--\")\n",
        "  return data # M O(0)     P O(1)\n",
        "\n",
        "  print(burbuja(info))\n",
        "# Memoria O(n + 3) = (n)    \n",
        "# Procesamiento O(3 + 2n^2) = (n^2)\n",
        "\n",
        "print(burbuja(info))\n",
        "\n"
      ],
      "execution_count": null,
      "outputs": [
        {
          "output_type": "stream",
          "name": "stdout",
          "text": [
            "--> [5, 8, 3, 9] <--\n",
            "--> [5, 3, 8, 9] <--\n",
            "--> [3, 5, 8, 9] <--\n",
            "[3, 5, 8, 9]\n"
          ]
        }
      ]
    },
    {
      "cell_type": "markdown",
      "metadata": {
        "id": "9OOCbenDVEfR"
      },
      "source": [
        "#Selection sort"
      ]
    },
    {
      "cell_type": "code",
      "metadata": {
        "colab": {
          "base_uri": "https://localhost:8080/"
        },
        "id": "iYzX_a2cVQ6X",
        "outputId": "3797547a-0120-4005-d48c-aadc51a09a85"
      },
      "source": [
        "info = [8, 5, 9, 3]\n",
        "info2 = [10, 9, 8, 7, 6, 5, 4, 3, 2, 1, 0]\n",
        "\n",
        "def selection_sort( data ):# M O(n)     P O(1)\n",
        "  tam = len(data) # M O(1)     P O(1)\n",
        "  for pivote in range(tam): # M O(1)     P O(na)\n",
        "    min = pivote # Posición del menor # M O(1)     P O(1*n) = (n)\n",
        "    for indice in range(pivote, tam, 1): # M O(1)     P O(na)\n",
        "      if data[indice] < data[min]: # M O(0)     P O(na)\n",
        "        min = indice # M O(0)     P O(1*n*n) = (n^2)\n",
        "      data[pivote], data[min] = data[min], data[pivote] # M O(0,0)     P O(2*n)\n",
        "      print(f\"--> {data} <--\") \n",
        "  return data # M O(0)     P O(1)\n",
        "\n",
        "# Memoria O(n+4) = O(n)    \n",
        "# Procesamiento O(1+1+n+n^2+2*n) = O(3n+n^2) = O(n+n^2) = O(n^2)\n",
        "\n",
        "print(selection_sort(info))\n",
        "\n"
      ],
      "execution_count": null,
      "outputs": [
        {
          "output_type": "stream",
          "name": "stdout",
          "text": [
            "--> [8, 5, 9, 3] <--\n",
            "--> [5, 8, 9, 3] <--\n",
            "--> [8, 5, 9, 3] <--\n",
            "--> [3, 5, 9, 8] <--\n",
            "--> [3, 5, 9, 8] <--\n",
            "--> [3, 5, 9, 8] <--\n",
            "--> [3, 5, 9, 8] <--\n",
            "--> [3, 5, 9, 8] <--\n",
            "--> [3, 5, 8, 9] <--\n",
            "--> [3, 5, 8, 9] <--\n",
            "[3, 5, 8, 9]\n"
          ]
        }
      ]
    },
    {
      "cell_type": "markdown",
      "metadata": {
        "id": "yjbePXhiz1R-"
      },
      "source": [
        "#Insertion sort \n",
        "Como cuando juegas cartas "
      ]
    },
    {
      "cell_type": "code",
      "metadata": {
        "id": "dlox53lz00qA",
        "colab": {
          "base_uri": "https://localhost:8080/"
        },
        "outputId": "94d91d55-7445-4fff-bf97-2de8b8ff28bb"
      },
      "source": [
        "def insertion_sort(data): # M O(n)     P O(1)\n",
        "  print(f\"original { data }\") # M O(0)     P O(1)\n",
        "  # Toda la lógica de Insertion sort\n",
        "  for pivote in range(1, len(data), 1):# M O(1)     P O(na)\n",
        "    for index in range (0, pivote + 1, 1): # M O(1)     P O(na)\n",
        "      if(data[pivote] < data[index]): # M O(0)     P O(na)\n",
        "        tmp = data[pivote] # M O(1)     P O(n)\n",
        "        #recorrer a la derecha \n",
        "        for i in range(pivote, index, -1): # M O(1)     P O(na)\n",
        "          data[i] = data[i-1] # M O(0)     P O(n*m)\n",
        "        data[index] = tmp # M O(0)     P O(n)\n",
        "    print(f\"Posicion {pivote} --> {data} <--\") # M O(0)     P O(1)\n",
        "  return data # M O(0)     P O(1)\n",
        "\n",
        "# Memoria O(n + 4) = O(n)    \n",
        "# Procesamiento O(4+ 2n + n*m) = O(4 + 2n+ n^2) = (n^2)\n",
        "\n",
        "info = [10, 51, 2, 18, 4, 31, 12, 5]\n",
        "print(\"Ordenado\",insertion_sort(info))"
      ],
      "execution_count": null,
      "outputs": [
        {
          "output_type": "stream",
          "name": "stdout",
          "text": [
            "original [10, 51, 2, 18, 4, 31, 12, 5]\n",
            "Posicion 1 --> [10, 51, 2, 18, 4, 31, 12, 5] <--\n",
            "Posicion 2 --> [2, 10, 51, 18, 4, 31, 12, 5] <--\n",
            "Posicion 3 --> [2, 10, 18, 51, 4, 31, 12, 5] <--\n",
            "Posicion 4 --> [2, 4, 10, 18, 51, 31, 12, 5] <--\n",
            "Posicion 5 --> [2, 4, 10, 18, 31, 51, 12, 5] <--\n",
            "Posicion 6 --> [2, 4, 10, 12, 18, 31, 51, 5] <--\n",
            "Posicion 7 --> [2, 4, 5, 10, 12, 18, 31, 51] <--\n",
            "Ordenado [2, 4, 5, 10, 12, 18, 31, 51]\n"
          ]
        }
      ]
    },
    {
      "cell_type": "markdown",
      "metadata": {
        "id": "H6jiDU4eGFvw"
      },
      "source": [
        "#Merge sort"
      ]
    },
    {
      "cell_type": "code",
      "metadata": {
        "id": "Hgw-Z0bcGNov"
      },
      "source": [
        "def mergeSort(data):#M O(n)     P O(1)\n",
        "  tam = len(data) #M O(1)     P O(1)\n",
        "  #print(f\"recibido: {data}\")\n",
        "  if tam == 1: # Caso base de la recursividad #M O(0)     P O(na)\n",
        "    return data #M O(0)     P O(1)\n",
        "  \n",
        "  mid = tam // 2 #M O(1)     P O(2)\n",
        "  I = mergeSort(data[0: mid: 1]) #M O(0)     P O((log n)/2)\n",
        "  D = mergeSort(data[mid: : 1])\n",
        "  #print(f\"{I}\\t\\t{D}\")\n",
        "  return merge(I, D)\n",
        "\n",
        "def merge(I, D):\n",
        "  resultado = [0]*(len(I) + len(D))\n",
        "  i = 0\n",
        "  d = 0\n",
        "  r = 0\n",
        "  while i < len(I) and d < len(D):\n",
        "    if I[i] < D[d]:\n",
        "      resultado[r] = I[i]\n",
        "      i += 1\n",
        "    else:\n",
        "      resultado[r] = D[d]\n",
        "      d+=1\n",
        "    r += 1\n",
        "  #procesar los faltantes ya sea a la der o a la izq\n",
        "  while i < len(I):\n",
        "    resultado[r]=I[i]\n",
        "    i+=1\n",
        "    r+=1\n",
        "\n",
        "  while d < len(D):\n",
        "    resultado[r] = D[d]\n",
        "    d+=1\n",
        "    r+=1\n",
        "  return resultado"
      ],
      "execution_count": 13,
      "outputs": []
    },
    {
      "cell_type": "code",
      "metadata": {
        "id": "chZDL7RyzMY3",
        "colab": {
          "base_uri": "https://localhost:8080/"
        },
        "outputId": "9a673eaa-bcc5-4a2b-a956-fefc0e6de1e2"
      },
      "source": [
        "numeros = [10, 51, 2, 18, 4, 31, 12, 5]\n",
        "print(mergeSort(numeros))"
      ],
      "execution_count": 14,
      "outputs": [
        {
          "output_type": "stream",
          "name": "stdout",
          "text": [
            "[2, 4, 5, 10, 12, 18, 31, 51]\n"
          ]
        }
      ]
    },
    {
      "cell_type": "code",
      "metadata": {
        "id": "7LP6tRg8wvGX"
      },
      "source": [
        "frutas = ['peras', 'manzanas','kiwi','limon','aguacate','uva','sandia']\n",
        "print(frutas)\n",
        "# Slicing sirve para sacar rebanadas de un iterable.\n",
        "# frutas [<ini>: <stop>: <incremento>]\n",
        "# NOTA: el stop no se incluye, se incluye el valor previo\n",
        "print(frutas[0:3:1])\n",
        "print(len(frutas))\n",
        "mid = len(frutas) // 2\n",
        "print(mid)\n",
        "print( frutas[0: mid: 1])\n",
        "print( frutas [mid: :1])"
      ],
      "execution_count": null,
      "outputs": []
    },
    {
      "cell_type": "code",
      "metadata": {
        "colab": {
          "base_uri": "https://localhost:8080/"
        },
        "id": "0Yb5g-pA10CY",
        "outputId": "64a065f7-937b-4a43-ec33-f6b89b97a340"
      },
      "source": [
        "I = [2, 8]\n",
        "D = [3, 22]\n",
        "resultado = [0]*(len(I)+len(D))\n",
        "print(resultado)"
      ],
      "execution_count": 1,
      "outputs": [
        {
          "output_type": "stream",
          "name": "stdout",
          "text": [
            "[0, 0, 0, 0]\n"
          ]
        }
      ]
    }
  ]
}