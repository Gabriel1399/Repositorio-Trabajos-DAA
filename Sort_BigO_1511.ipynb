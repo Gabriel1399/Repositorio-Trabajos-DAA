{
  "nbformat": 4,
  "nbformat_minor": 0,
  "metadata": {
    "colab": {
      "name": "Sort_BigO_1511.ipynb",
      "provenance": [],
      "collapsed_sections": [],
      "authorship_tag": "ABX9TyOq3udVXatbxfxClplnGHMl",
      "include_colab_link": true
    },
    "kernelspec": {
      "name": "python3",
      "display_name": "Python 3"
    },
    "language_info": {
      "name": "python"
    }
  },
  "cells": [
    {
      "cell_type": "markdown",
      "metadata": {
        "id": "view-in-github",
        "colab_type": "text"
      },
      "source": [
        "<a href=\"https://colab.research.google.com/github/Gabriel1399/Repositorio-Trabajos-DAA/blob/main/Sort_BigO_1511.ipynb\" target=\"_parent\"><img src=\"https://colab.research.google.com/assets/colab-badge.svg\" alt=\"Open In Colab\"/></a>"
      ]
    },
    {
      "cell_type": "markdown",
      "metadata": {
        "id": "DltE87b0KENl"
      },
      "source": [
        "#Bubble sort\n"
      ]
    },
    {
      "cell_type": "code",
      "metadata": {
        "colab": {
          "base_uri": "https://localhost:8080/"
        },
        "id": "GTa2NamEKJqc",
        "outputId": "a4afb48f-8529-4a47-bd53-cdcefaded498"
      },
      "source": [
        "info = [8, 5, 9, 3]\n",
        "info2 = [10, 9, 8, 7, 6, 5, 4, 3, 2, 1, 0]\n",
        "\n",
        "def burbuja(data): # M O(n)     P O(1)\n",
        "  tam = len(data)  # M O(1)     P O(1)\n",
        "  for tope in range( tam - 1, 0, -1): # M O(1)     P O(na)\n",
        "    for pivote in range(tope): # M O(1)     P O(na)\n",
        "      if data[pivote] > data[pivote + 1]: \n",
        "        data[pivote], data[pivote + 1] = data[pivote + 1], data[pivote] # M O(0)     P O(2n^2)\n",
        "        print(f\"--> {data} <--\")\n",
        "  return data # M O(0)     P O(1)\n",
        "# Memoria O(n + 3) = (n)    \n",
        "# Procesamiento O(3 + 2n^2) = (n^2)\n",
        "\n",
        "print(burbuja(info))\n",
        "\n"
      ],
      "execution_count": null,
      "outputs": [
        {
          "output_type": "stream",
          "name": "stdout",
          "text": [
            "--> [5, 8, 9, 3] <--\n",
            "--> [5, 8, 3, 9] <--\n",
            "--> [5, 3, 8, 9] <--\n",
            "--> [3, 5, 8, 9] <--\n",
            "[3, 5, 8, 9]\n"
          ]
        }
      ]
    },
    {
      "cell_type": "markdown",
      "metadata": {
        "id": "9OOCbenDVEfR"
      },
      "source": [
        "#Selection sort"
      ]
    },
    {
      "cell_type": "code",
      "metadata": {
        "colab": {
          "base_uri": "https://localhost:8080/"
        },
        "id": "iYzX_a2cVQ6X",
        "outputId": "611bbf33-8345-494a-b4d5-135a3645ecc4"
      },
      "source": [
        "info = [8, 5, 9, 3]\n",
        "info2 = [10, 9, 8, 7, 6, 5, 4, 3, 2, 1, 0]\n",
        "\n",
        "def selection_sort( data ):# M O(n)     P O(1)\n",
        "  tam = len(data) # M O(1)     P O(1)\n",
        "  for pivote in range(tam): # M O(1)     P O(na)\n",
        "    min = pivote # Posición del menor # M O(1)     P O(1*n) = (n)\n",
        "    for indice in range(pivote, tam, 1): # M O(1)     P O(na)\n",
        "      if data[indice] < data[min]: # M O(0)     P O(na)\n",
        "        min = indice # M O(0)     P O(1*n*n) = (n^2)\n",
        "      data[pivote], data[min] = data[min], data[pivote] # M O(0,0)     P O(2*n)\n",
        "      print(f\"--> {data} <--\") \n",
        "  return data # M O(0)     P O(1)\n",
        "\n",
        "# Memoria O(n+4) = O(n)    \n",
        "# Procesamiento O(1+1+n+n^2+2*n) = O(3n+n^2) = O(n+n^2) = O(n^2)\n",
        "\n",
        "print(selection_sort(info))\n",
        "\n"
      ],
      "execution_count": null,
      "outputs": [
        {
          "output_type": "stream",
          "name": "stdout",
          "text": [
            "--> [8, 5, 9, 3] <--\n",
            "--> [5, 8, 9, 3] <--\n",
            "--> [8, 5, 9, 3] <--\n",
            "--> [3, 5, 9, 8] <--\n",
            "--> [3, 5, 9, 8] <--\n",
            "--> [3, 5, 9, 8] <--\n",
            "--> [3, 5, 9, 8] <--\n",
            "--> [3, 5, 9, 8] <--\n",
            "--> [3, 5, 8, 9] <--\n",
            "--> [3, 5, 8, 9] <--\n",
            "[3, 5, 8, 9]\n"
          ]
        }
      ]
    },
    {
      "cell_type": "markdown",
      "metadata": {
        "id": "yjbePXhiz1R-"
      },
      "source": [
        "#Insertion Sort \n",
        "Como cuando juegas cartas "
      ]
    },
    {
      "cell_type": "code",
      "metadata": {
        "id": "dlox53lz00qA"
      },
      "source": [
        "def insertion_sort(data):\n",
        "  print(f,\"original { data }\")\n",
        "\n",
        "\n",
        "\n",
        "\n",
        "info = [10, 51, 2, 18, 4, 31, 12, 5]\n",
        "insertion_sort(info)"
      ],
      "execution_count": null,
      "outputs": []
    }
  ]
}