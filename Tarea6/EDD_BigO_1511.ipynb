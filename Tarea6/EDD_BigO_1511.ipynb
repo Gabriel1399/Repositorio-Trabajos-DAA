{
  "nbformat": 4,
  "nbformat_minor": 0,
  "metadata": {
    "colab": {
      "name": "EDD_BigO_1511.ipynb",
      "provenance": [],
      "collapsed_sections": []
    },
    "kernelspec": {
      "name": "python3",
      "display_name": "Python 3"
    },
    "language_info": {
      "name": "python"
    }
  },
  "cells": [
    {
      "cell_type": "markdown",
      "metadata": {
        "id": "EdrU4C4ZEgT5"
      },
      "source": [
        "#Árbol binario de busqueda \n",
        "#árbol binario de busqueda"
      ]
    },
    {
      "cell_type": "code",
      "metadata": {
        "id": "-3VF_98SEOzZ"
      },
      "source": [
        "class NodoArbol:\n",
        "  def __init__(self, value, left = None, rigth = None):\n",
        "    self.data = value\n",
        "    self.left = left\n",
        "    self.rigth = rigth\n",
        "\n",
        "class ArbolBB:\n",
        "  def __init__(self):\n",
        "    self.__root = None\n",
        "  \n",
        "  def insert(self, value):\n",
        "    if self.__root == None:\n",
        "      self.__root = NodoArbol(value)\n",
        "    else:\n",
        "      self.__insert_nodo__(self.__root, value)\n",
        "  \n",
        "  def __insert_nodo__(self, nodo, value):\n",
        "    if nodo.data == value:\n",
        "      print(\"Ya existe\")\n",
        "      pass\n",
        "    elif value < nodo.data:\n",
        "      if nodo.left == None:\n",
        "        nodo.left = NodoArbol(value)\n",
        "      else:\n",
        "        self.__insert_nodo__(nodo.left, value)\n",
        "    else:\n",
        "      if nodo.rigth == None:\n",
        "        nodo.rigth = NodoArbol(value)\n",
        "      else:\n",
        "        self.__insert_nodo__(nodo.rigth, value)\n",
        "  \n",
        "  #Preorden, posorden\n",
        "  def transversal(self, formato = \"\"):\n",
        "    if formato == \"inorden\":\n",
        "      print(\"Inorden\")\n",
        "      self.recorrido_in(self.__root)\n",
        "    elif formato == \"preorden\":\n",
        "      print(\"\\nPreorden\")\n",
        "      self.recorrido_pre(self.__root)\n",
        "    else: #posorden\n",
        "      print(\"\\nPosorden\")\n",
        "      self.recorrido_pos(self.__root)\n",
        "      pass\n",
        "\n",
        "  def recorrido_in(self, nodo):\n",
        "    if nodo != None:\n",
        "      self.recorrido_in(nodo.left)\n",
        "      print(nodo.data, end= \"  \")\n",
        "      self.recorrido_in(nodo.rigth)\n",
        "  \n",
        "  def recorrido_pre(self, nodo):\n",
        "    if nodo != None:\n",
        "      print(nodo.data, end= \"  \")\n",
        "      self.recorrido_pre(nodo.left)\n",
        "      self.recorrido_pre(nodo.rigth)\n",
        "  \n",
        "  def recorrido_pos(self, nodo):\n",
        "    if nodo != None:\n",
        "      self.recorrido_pos(nodo.left)\n",
        "      self.recorrido_pos(nodo.rigth)\n",
        "      print(nodo.data, end= \"  \")\n",
        "\n",
        "  \n",
        "  def buscar(self, value):\n",
        "    if self.__root == None:\n",
        "      print(\"Arbol vacío\")\n",
        "      return None\n",
        "    else:\n",
        "      return self.__busca_nodo(self.__root, value)\n",
        "\n",
        "\n",
        "  def __busca_nodo(self, nodo, value):\n",
        "    if nodo == None:\n",
        "      print(\"No existe\")\n",
        "      return None\n",
        "    elif nodo.data == value:\n",
        "      print(\"Encontrado\", nodo.data)\n",
        "      return nodo.data\n",
        "    elif value < nodo.data:\n",
        "      print(\"Buscar del lado izquierdo\")\n",
        "      return self.__busca_nodo(nodo.left, value)\n",
        "    else:\n",
        "      print(\"Buscar del lado derecho\")\n",
        "      return self.__busca_nodo(nodo.rigth, value)\n",
        "        \n",
        "  \n",
        "  def findPredecessor(self):\n",
        "    if self.__root.rigth == None:\n",
        "      return self.__root\n",
        "    else:\n",
        "      return self.__root.rigth.findPredecessor(self)\n",
        "  \n",
        "  def findSuccessor(self):\n",
        "    if self.__root.left == None:\n",
        "      return self.__root\n",
        "    else:\n",
        "      return self.__root.left.findSuccessor(self)\n",
        "  \n",
        "  def delete(self, value):\n",
        "    response = self.__root\n",
        "    if value < self.__root.value:\n",
        "      self.__root.left = self.__root.left.delete(value)\n",
        "    elif value > self.__root.value:\n",
        "      self.__root.rigth = self.__root.rigth.delete(value)\n",
        "    elif self.__root.left != None and self.__root.rigth != None:\n",
        "      temp = self.__root\n",
        "      maxOfTheLeft = self.__root.left.findPredecessor\n",
        "      self.__root.value = maxOfTheLeft.value\n",
        "      temp.left = temp.left.delete(maxOfTheLeft.value)\n",
        "    elif self.__root.left != None:\n",
        "      response = self.__root.left\n",
        "    elif self.__root.rigth != None:\n",
        "      response = self.__root.rigth\n",
        "    else:\n",
        "      response = None\n",
        "    return response\n"
      ],
      "execution_count": 24,
      "outputs": []
    },
    {
      "cell_type": "code",
      "metadata": {
        "colab": {
          "base_uri": "https://localhost:8080/",
          "height": 541
        },
        "id": "xPGOP4NLbGSK",
        "outputId": "0a4d9d2f-3103-4f11-ab3f-6884e7764737"
      },
      "source": [
        "abb = ArbolBB()\n",
        "abb.insert(50)\n",
        "abb.insert(25)\n",
        "abb.insert(30)\n",
        "abb.insert(10)\n",
        "abb.insert(60)\n",
        "abb.insert(5)\n",
        "abb.insert(15)\n",
        "abb.insert(28)\n",
        "abb.insert(31)\n",
        "\n",
        "\"\"\"abb.insert(6)\n",
        "abb.insert(3)\n",
        "abb.insert(8)\"\"\"\n",
        "abb.transversal(\"inorden\")\n",
        "abb.transversal(\"preorden\")\n",
        "abb.transversal(\"posorden\")\n",
        "\n",
        "print(\"\\n\")\n",
        "res = abb.buscar(28)\n",
        "print(\"Resultado:\", res)\n",
        "\n",
        "abb.delete(5)\n"
      ],
      "execution_count": 25,
      "outputs": [
        {
          "output_type": "stream",
          "name": "stdout",
          "text": [
            "Inorden\n",
            "5  10  15  25  28  30  31  50  60  \n",
            "Preorden\n",
            "50  25  10  5  15  30  28  31  60  \n",
            "Posorden\n",
            "5  15  10  28  31  30  25  60  50  \n",
            "\n",
            "Buscar del lado izquierdo\n",
            "Buscar del lado derecho\n",
            "Buscar del lado izquierdo\n",
            "Encontrado 28\n",
            "Resultado: 28\n"
          ]
        },
        {
          "output_type": "error",
          "ename": "AttributeError",
          "evalue": "ignored",
          "traceback": [
            "\u001b[0;31m---------------------------------------------------------------------------\u001b[0m",
            "\u001b[0;31mAttributeError\u001b[0m                            Traceback (most recent call last)",
            "\u001b[0;32m<ipython-input-25-a551864c6400>\u001b[0m in \u001b[0;36m<module>\u001b[0;34m()\u001b[0m\n\u001b[1;32m     21\u001b[0m \u001b[0mprint\u001b[0m\u001b[0;34m(\u001b[0m\u001b[0;34m\"Resultado:\"\u001b[0m\u001b[0;34m,\u001b[0m \u001b[0mres\u001b[0m\u001b[0;34m)\u001b[0m\u001b[0;34m\u001b[0m\u001b[0;34m\u001b[0m\u001b[0m\n\u001b[1;32m     22\u001b[0m \u001b[0;34m\u001b[0m\u001b[0m\n\u001b[0;32m---> 23\u001b[0;31m \u001b[0mabb\u001b[0m\u001b[0;34m.\u001b[0m\u001b[0mdelete\u001b[0m\u001b[0;34m(\u001b[0m\u001b[0;36m5\u001b[0m\u001b[0;34m)\u001b[0m\u001b[0;34m\u001b[0m\u001b[0;34m\u001b[0m\u001b[0m\n\u001b[0m",
            "\u001b[0;32m<ipython-input-24-0c0fd4aea5d9>\u001b[0m in \u001b[0;36mdelete\u001b[0;34m(self, value)\u001b[0m\n\u001b[1;32m     99\u001b[0m   \u001b[0;32mdef\u001b[0m \u001b[0mdelete\u001b[0m\u001b[0;34m(\u001b[0m\u001b[0mself\u001b[0m\u001b[0;34m,\u001b[0m \u001b[0mvalue\u001b[0m\u001b[0;34m)\u001b[0m\u001b[0;34m:\u001b[0m\u001b[0;34m\u001b[0m\u001b[0;34m\u001b[0m\u001b[0m\n\u001b[1;32m    100\u001b[0m     \u001b[0mresponse\u001b[0m \u001b[0;34m=\u001b[0m \u001b[0mself\u001b[0m\u001b[0;34m.\u001b[0m\u001b[0m__root\u001b[0m\u001b[0;34m\u001b[0m\u001b[0;34m\u001b[0m\u001b[0m\n\u001b[0;32m--> 101\u001b[0;31m     \u001b[0;32mif\u001b[0m \u001b[0mvalue\u001b[0m \u001b[0;34m<\u001b[0m \u001b[0mself\u001b[0m\u001b[0;34m.\u001b[0m\u001b[0m__root\u001b[0m\u001b[0;34m.\u001b[0m\u001b[0mvalue\u001b[0m\u001b[0;34m:\u001b[0m\u001b[0;34m\u001b[0m\u001b[0;34m\u001b[0m\u001b[0m\n\u001b[0m\u001b[1;32m    102\u001b[0m       \u001b[0mself\u001b[0m\u001b[0;34m.\u001b[0m\u001b[0m__root\u001b[0m\u001b[0;34m.\u001b[0m\u001b[0mleft\u001b[0m \u001b[0;34m=\u001b[0m \u001b[0mself\u001b[0m\u001b[0;34m.\u001b[0m\u001b[0m__root\u001b[0m\u001b[0;34m.\u001b[0m\u001b[0mleft\u001b[0m\u001b[0;34m.\u001b[0m\u001b[0mdelete\u001b[0m\u001b[0;34m(\u001b[0m\u001b[0mvalue\u001b[0m\u001b[0;34m)\u001b[0m\u001b[0;34m\u001b[0m\u001b[0;34m\u001b[0m\u001b[0m\n\u001b[1;32m    103\u001b[0m     \u001b[0;32melif\u001b[0m \u001b[0mvalue\u001b[0m \u001b[0;34m>\u001b[0m \u001b[0mself\u001b[0m\u001b[0;34m.\u001b[0m\u001b[0m__root\u001b[0m\u001b[0;34m.\u001b[0m\u001b[0mvalue\u001b[0m\u001b[0;34m:\u001b[0m\u001b[0;34m\u001b[0m\u001b[0;34m\u001b[0m\u001b[0m\n",
            "\u001b[0;31mAttributeError\u001b[0m: 'NodoArbol' object has no attribute 'value'"
          ]
        }
      ]
    },
    {
      "cell_type": "code",
      "metadata": {
        "colab": {
          "base_uri": "https://localhost:8080/"
        },
        "id": "U79lhRg2LyJK",
        "outputId": "05aa640c-28dc-44bb-b5f1-b7c6d18a654c"
      },
      "source": [
        "raiz = NodoArbol(60, None, None)\n",
        "raiz.left = NodoArbol(40, None, None)\n",
        "print(raiz.left.data)\n",
        "\n",
        "# Lo mismo pero como programador Ninja\n",
        "raiz = NodoArbol(60, NodoArbol(40), None)\n",
        "print(raiz.left.data)\n",
        "\n",
        "raiz= NodoArbol(60, NodoArbol(40, NodoArbol(30)), NodoArbol(70))\n",
        "print(raiz.left.left.data)\n",
        "\n",
        "# Imprimir le hijo mas a la izquierda\n",
        "print(\"Imprimir recorriendo primero la rama izquierda\")\n",
        "curr_node = raiz\n",
        "while curr_node.left != None:\n",
        "  curr_node = curr_node.left\n",
        "print(curr_node.data) "
      ],
      "execution_count": null,
      "outputs": [
        {
          "output_type": "stream",
          "name": "stdout",
          "text": [
            "40\n",
            "40\n",
            "30\n",
            "Imprimir recorriendo primero la rama izquierda\n",
            "30\n"
          ]
        }
      ]
    }
  ]
}