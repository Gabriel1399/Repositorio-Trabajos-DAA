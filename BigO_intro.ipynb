{
  "nbformat": 4,
  "nbformat_minor": 0,
  "metadata": {
    "colab": {
      "name": "BigO_intro.ipynb",
      "provenance": [],
      "authorship_tag": "ABX9TyP6cm2YjCl80+3EDBH0b8OG",
      "include_colab_link": true
    },
    "kernelspec": {
      "name": "python3",
      "display_name": "Python 3"
    },
    "language_info": {
      "name": "python"
    }
  },
  "cells": [
    {
      "cell_type": "markdown",
      "metadata": {
        "id": "view-in-github",
        "colab_type": "text"
      },
      "source": [
        "<a href=\"https://colab.research.google.com/github/Gabriel1399/Repositorio-Trabajos-DAA/blob/main/BigO_intro.ipynb\" target=\"_parent\"><img src=\"https://colab.research.google.com/assets/colab-badge.svg\" alt=\"Open In Colab\"/></a>"
      ]
    },
    {
      "cell_type": "code",
      "metadata": {
        "id": "QTXEizcTeRRf"
      },
      "source": [
        "def suma(num):\n",
        "    suma = 0\n",
        "    for i in range(num +1 ):\n",
        "        suma += i\n",
        "    print(suma)"
      ],
      "execution_count": null,
      "outputs": []
    },
    {
      "cell_type": "code",
      "metadata": {
        "colab": {
          "base_uri": "https://localhost:8080/"
        },
        "id": "Reb2E7oOelBg",
        "outputId": "121390a8-eddf-417e-d379-4ca67d5c6b57"
      },
      "source": [
        "import time\n",
        "time.time()\n",
        "\n",
        "marca1 = time.time()\n",
        "n = 3\n",
        "suma(n)\n",
        "marca2 = time.time()\n",
        "print(marca2 - marca1)"
      ],
      "execution_count": null,
      "outputs": [
        {
          "output_type": "stream",
          "name": "stdout",
          "text": [
            "6\n",
            "0.00013327598571777344\n"
          ]
        }
      ]
    },
    {
      "cell_type": "code",
      "metadata": {
        "id": "vb4f9rcXewZQ"
      },
      "source": [
        "def sumaNumeros(n):\n",
        "    if (n == 0):\n",
        "        return 0\n",
        "    else: \n",
        "        return n+sumaNumeros(n-1)"
      ],
      "execution_count": null,
      "outputs": []
    },
    {
      "cell_type": "code",
      "metadata": {
        "colab": {
          "base_uri": "https://localhost:8080/"
        },
        "id": "g2BdV1W9e0Tc",
        "outputId": "c0dd3096-e0d6-4f05-f8d9-1958d41ff471"
      },
      "source": [
        "import time\n",
        "time.time()\n",
        "\n",
        "marca3 = time.time()\n",
        "n = 3\n",
        "sumaNumeros(n)\n",
        "marca4 = time.time()\n",
        "print(marca4 - marca3)"
      ],
      "execution_count": null,
      "outputs": [
        {
          "output_type": "stream",
          "name": "stdout",
          "text": [
            "5.364418029785156e-05\n"
          ]
        }
      ]
    },
    {
      "cell_type": "markdown",
      "metadata": {
        "id": "b7aKXbvPifzq"
      },
      "source": [
        "\n",
        "\n",
        "```\n",
        "# Ejercicio 2\n",
        "```\n",
        "\n"
      ]
    },
    {
      "cell_type": "code",
      "metadata": {
        "id": "jSQapyE1ie5b"
      },
      "source": [
        "numeros = [1,2,3,4,5,6,7,8,9]\n",
        "\n",
        "def unaFuncionCualquiera( lista ):\n",
        "    conteo = 0 # O(1)\n",
        "    for numero1 in lista:\n",
        "        for numero2 in lista:\n",
        "            print(numero1 , numero2 ) # O(n^2)\n",
        "            conteo += 1 # O(n^2)\n",
        "    return conteo\n",
        "# O(1 +2n^2)\n",
        "\n",
        "conteo = unaFuncionCualquiera(numeros)\n",
        "\n",
        "print( \"Final:\" , conteo)"
      ],
      "execution_count": null,
      "outputs": []
    },
    {
      "cell_type": "markdown",
      "metadata": {
        "id": "8iuyd7Xzi0Nd"
      },
      "source": [
        "#Ejercicio 3.1\n",
        "Modificar el anterior para ademas: \n",
        "*   Sume los elementos de la lista y muestre el resultado. \n",
        "\n"
      ]
    },
    {
      "cell_type": "code",
      "metadata": {
        "id": "cLa7ekgnjKAA"
      },
      "source": [
        "numeros = [1,2,3]\n",
        "\n",
        "def unaFuncionCualquiera( lista ):\n",
        "    conteo = 0 # O(1)\n",
        "    suma = 0 # O(1)\n",
        "    for num in lista:\n",
        "        suma += num # O(n)\n",
        "    print(f\"La sumatoria de los numeros en la lista es={ suma } \") # O(1)\n",
        "\n",
        "    for numero1 in lista:\n",
        "        for numero2 in lista:\n",
        "            print(numero1 , numero2 ) # O(n^2)\n",
        "            conteo += 1 # O(n^2)\n",
        "    return conteo\n",
        "# O(3+2n^2)\n",
        "\n",
        "conteo = unaFuncionCualquiera(numeros)\n",
        "\n",
        "print( \"Final:\" , conteo)"
      ],
      "execution_count": null,
      "outputs": []
    },
    {
      "cell_type": "markdown",
      "metadata": {
        "id": "KmORXZrmluuO"
      },
      "source": [
        "#Ejercicio 3.2\n",
        "- Modificar el ejemplo 2 y que las combinaciones sean de dos listas diferentes "
      ]
    },
    {
      "cell_type": "code",
      "metadata": {
        "id": "1c6u_kaHmB7V",
        "colab": {
          "base_uri": "https://localhost:8080/"
        },
        "outputId": "b1764242-3130-475f-b8f7-12e8a75d85ae"
      },
      "source": [
        "numeros = [1, 2, 3]\n",
        "numeros2 = [4, 5, 6, 7, 8]\n",
        "\n",
        "def unaFuncionCualquiera( lista, lista2 ):\n",
        "    conteo = 0 # O(1)\n",
        "    for numero1 in lista:\n",
        "        for numero2 in lista2:\n",
        "            print(numero1 , numero2 ) # O(n * m)\n",
        "            conteo += 1 # O(n * m)\n",
        "    return conteo\n",
        "# O( 1 + 2(n*m))\n",
        "\n",
        "conteo = unaFuncionCualquiera(numeros, numeros2)\n",
        "\n",
        "print( \"Final:\" , conteo)"
      ],
      "execution_count": null,
      "outputs": [
        {
          "output_type": "stream",
          "name": "stdout",
          "text": [
            "1 4\n",
            "1 5\n",
            "1 6\n",
            "1 7\n",
            "1 8\n",
            "2 4\n",
            "2 5\n",
            "2 6\n",
            "2 7\n",
            "2 8\n",
            "3 4\n",
            "3 5\n",
            "3 6\n",
            "3 7\n",
            "3 8\n",
            "Final: 15\n"
          ]
        }
      ]
    },
    {
      "cell_type": "markdown",
      "metadata": {
        "id": "m5501hj8yX_1"
      },
      "source": [
        "#Ejecicio 4\n",
        "*   Hacer una función que realice la búsqueda líneal en un arreglo unidimencional de números.\n",
        "\n",
        "*   La función debe recibir dos argumentos: el arreglo y el valor a buscar.\n",
        "*   Debe regresar el número de comparaciones realizadas \n",
        "\n",
        "\n",
        "\n"
      ]
    },
    {
      "cell_type": "code",
      "metadata": {
        "colab": {
          "base_uri": "https://localhost:8080/"
        },
        "id": "O5KNfN-d0E7T",
        "outputId": "aca30e73-93e4-4fe1-c862-7e537be1a28a"
      },
      "source": [
        "def busquedaLineal(lista, valorBuscar):\n",
        "  contador = 0 #O(1)\n",
        "  for x in range (len(lista)):\n",
        "    contador+=1 # O(n)\n",
        "    if lista[x] == valorBuscar:\n",
        "      print(f\"Encontrado en la posicion {x}\") #O(1)\n",
        "      break\n",
        "  return contador \n",
        "  # O(1 + n + 1) --> O(2 + n)\n",
        "\n",
        "numeros = [2, 3, 1, 23, 24, 25, 10, 100, 35, 8]\n",
        "comparaciones = busquedaLineal(numeros, 10)\n",
        "print(f\"{comparaciones} comparaciones\")"
      ],
      "execution_count": null,
      "outputs": [
        {
          "output_type": "stream",
          "name": "stdout",
          "text": [
            "Encontrado en la posicion 6\n",
            "7 comparaciones\n"
          ]
        }
      ]
    }
  ]
}